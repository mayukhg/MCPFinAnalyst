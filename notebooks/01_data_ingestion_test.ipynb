{
 "cells": [
  {
   "cell_type": "markdown",
   "metadata": {},
   "source": [
    "# Data Ingestion Test\n",
    "\n",
    "This notebook demonstrates how to ingest documents into the Agentic RAG system."
   ]
  },
  {
   "cell_type": "code",
   "execution_count": null,
   "metadata": {},
   "outputs": [],
   "source": [
    "import sys\n",
    "import os\n",
    "from pathlib import Path\n",
    "\n",
    "# Add src to Python path\n",
    "sys.path.insert(0, str(Path('..') / 'src'))\n",
    "\n",
    "from processing.loader import DocumentLoader\n",
    "from components.vector_stores import VectorStoreManager\n",
    "from utils.config_manager import ConfigManager"
   ]
  },
  {
   "cell_type": "code",
   "execution_count": null,
   "metadata": {},
   "outputs": [],
   "source": [
    "# Load configuration\n",
    "config_manager = ConfigManager('../config.yaml')\n",
    "config = config_manager.config\n",
    "print(f\"Loaded configuration: LLM={config.llm.model}, Embeddings={config.embeddings.model}\")"
   ]
  },
  {
   "cell_type": "code",
   "execution_count": null,
   "metadata": {},
   "outputs": [],
   "source": [
    "# Initialize components\n",
    "loader = DocumentLoader(config)\n",
    "vector_store = VectorStoreManager(config)\n",
    "\n",
    "print(\"Components initialized successfully\")"
   ]
  },
  {
   "cell_type": "code",
   "execution_count": null,
   "metadata": {},
   "outputs": [],
   "source": [
    "# Find documents in data directory\n",
    "data_path = Path('../data')\n",
    "documents = loader.find_documents(data_path, recursive=True)\n",
    "print(f\"Found {len(documents)} documents: {[doc.name for doc in documents]}\")"
   ]
  },
  {
   "cell_type": "code",
   "execution_count": null,
   "metadata": {},
   "outputs": [],
   "source": [
    "# Process and ingest a document\n",
    "if documents:\n",
    "    doc_path = documents[0]\n",
    "    print(f\"Processing: {doc_path}\")\n",
    "    \n",
    "    # Load document chunks\n",
    "    chunks = loader.load_document(doc_path)\n",
    "    print(f\"Created {len(chunks)} chunks\")\n",
    "    \n",
    "    # Add to vector store\n",
    "    vector_store.add_documents(chunks, str(doc_path))\n",
    "    print(\"Documents added to vector store\")\n",
    "    \n",
    "    # Check document count\n",
    "    total_docs = vector_store.get_document_count()\n",
    "    print(f\"Total documents in store: {total_docs}\")\n",
    "else:\n",
    "    print(\"No documents found. Add some .pdf, .md, or .txt files to the data/ directory.\")"
   ]
  }
 ],
 "metadata": {
  "kernelspec": {
   "display_name": "Python 3",
   "language": "python",
   "name": "python3"
  },
  "language_info": {
   "codemirror_mode": {
    "name": "ipython",
    "version": 3
   },
   "file_extension": ".py",
   "mimetype": "text/x-python",
   "name": "python",
   "nbconvert_exporter": "python",
   "pygments_lexer": "ipython3",
   "version": "3.8.5"
  }
 },
 "nbformat": 4,
 "nbformat_minor": 4
}