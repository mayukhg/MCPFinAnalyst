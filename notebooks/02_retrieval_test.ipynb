{
 "cells": [
  {
   "cell_type": "markdown",
   "metadata": {},
   "source": [
    "# Retrieval Test\n",
    "\n",
    "This notebook demonstrates how to test the retrieval functionality of the Agentic RAG system."
   ]
  },
  {
   "cell_type": "code",
   "execution_count": null,
   "metadata": {},
   "outputs": [],
   "source": [
    "import sys\n",
    "from pathlib import Path\n",
    "\n",
    "# Add src to Python path\n",
    "sys.path.insert(0, str(Path('..') / 'src'))\n",
    "\n",
    "from core.agents import QueryAnalyzer, Retriever\n",
    "from components.vector_stores import VectorStoreManager\n",
    "from utils.config_manager import ConfigManager"
   ]
  },
  {
   "cell_type": "code",
   "execution_count": null,
   "metadata": {},
   "outputs": [],
   "source": [
    "# Load configuration\n",
    "config_manager = ConfigManager('../config.yaml')\n",
    "config = config_manager.config\n",
    "print(f\"Configuration loaded successfully\")"
   ]
  },
  {
   "cell_type": "code",
   "execution_count": null,
   "metadata": {},
   "outputs": [],
   "source": [
    "# Initialize agents\n",
    "query_analyzer = QueryAnalyzer(config)\n",
    "retriever = Retriever(config)\n",
    "vector_store = VectorStoreManager(config)\n",
    "\n",
    "print(f\"Vector store has {vector_store.get_document_count()} documents\")"
   ]
  },
  {
   "cell_type": "code",
   "execution_count": null,
   "metadata": {},
   "outputs": [],
   "source": [
    "# Test query analysis\n",
    "test_query = \"What are the main features of the project?\"\n",
    "print(f\"Analyzing query: {test_query}\")\n",
    "\n",
    "analysis = query_analyzer.analyze_query(test_query)\n",
    "print(f\"Analysis result: {analysis}\")"
   ]
  },
  {
   "cell_type": "code",
   "execution_count": null,
   "metadata": {},
   "outputs": [],
   "source": [
    "# Test document retrieval\n",
    "retrieved_docs = retriever.retrieve_documents(test_query, analysis)\n",
    "print(f\"Retrieved {len(retrieved_docs)} documents\")\n",
    "\n",
    "for i, doc in enumerate(retrieved_docs[:3], 1):\n",
    "    print(f\"\\nDocument {i}:\")\n",
    "    print(f\"Source: {doc.get('source', 'Unknown')}\")\n",
    "    print(f\"Similarity: {doc.get('similarity_score', 0):.3f}\")\n",
    "    print(f\"Text preview: {doc.get('text', '')[:200]}...\")"
   ]
  },
  {
   "cell_type": "code",
   "execution_count": null,
   "metadata": {},
   "outputs": [],
   "source": [
    "# Test context formatting\n",
    "context = retriever.get_retrieval_context(retrieved_docs)\n",
    "print(f\"Formatted context ({len(context)} characters):\")\n",
    "print(context[:500] + \"...\" if len(context) > 500 else context)"
   ]
  }
 ],
 "metadata": {
  "kernelspec": {
   "display_name": "Python 3",
   "language": "python",
   "name": "python3"
  },
  "language_info": {
   "codemirror_mode": {
    "name": "ipython",
    "version": 3
   },
   "file_extension": ".py",
   "mimetype": "text/x-python",
   "name": "python",
   "nbconvert_exporter": "python",
   "pygments_lexer": "ipython3",
   "version": "3.8.5"
  }
 },
 "nbformat": 4,
 "nbformat_minor": 4
}